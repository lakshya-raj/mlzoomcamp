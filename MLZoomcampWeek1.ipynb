{
  "nbformat": 4,
  "nbformat_minor": 0,
  "metadata": {
    "colab": {
      "provenance": [],
      "authorship_tag": "ABX9TyPr4+XM6tkXyvX+qzkCTAZJ",
      "include_colab_link": true
    },
    "kernelspec": {
      "name": "python3",
      "display_name": "Python 3"
    },
    "language_info": {
      "name": "python"
    }
  },
  "cells": [
    {
      "cell_type": "markdown",
      "metadata": {
        "id": "view-in-github",
        "colab_type": "text"
      },
      "source": [
        "<a href=\"https://colab.research.google.com/github/lakshya-raj/mlzoomcamp/blob/main/MLZoomcampWeek1.ipynb\" target=\"_parent\"><img src=\"https://colab.research.google.com/assets/colab-badge.svg\" alt=\"Open In Colab\"/></a>"
      ]
    },
    {
      "cell_type": "code",
      "execution_count": 4,
      "metadata": {
        "id": "pTtZCz_iTOdo"
      },
      "outputs": [],
      "source": [
        "import pandas as pd\n",
        "import numpy as np"
      ]
    },
    {
      "cell_type": "markdown",
      "source": [
        "**Question 1:** Version of Pandas:"
      ],
      "metadata": {
        "id": "Py0eVPJ8UAeT"
      }
    },
    {
      "cell_type": "code",
      "source": [
        "pd.__version__"
      ],
      "metadata": {
        "colab": {
          "base_uri": "https://localhost:8080/",
          "height": 36
        },
        "id": "uowg1ZZtTV8r",
        "outputId": "0fa172d9-094d-4b61-e756-603bea62bc8d"
      },
      "execution_count": 5,
      "outputs": [
        {
          "output_type": "execute_result",
          "data": {
            "text/plain": [
              "'1.5.3'"
            ],
            "application/vnd.google.colaboratory.intrinsic+json": {
              "type": "string"
            }
          },
          "metadata": {},
          "execution_count": 5
        }
      ]
    },
    {
      "cell_type": "code",
      "source": [
        "%%shell\n",
        "\n",
        "wget https://raw.githubusercontent.com/alexeygrigorev/datasets/master/housing.csv"
      ],
      "metadata": {
        "colab": {
          "base_uri": "https://localhost:8080/"
        },
        "id": "T-00RTNqTbEq",
        "outputId": "2b96d614-56dd-4aca-b850-5a0effb22767"
      },
      "execution_count": 6,
      "outputs": [
        {
          "output_type": "stream",
          "name": "stdout",
          "text": [
            "--2023-09-18 19:03:00--  https://raw.githubusercontent.com/alexeygrigorev/datasets/master/housing.csv\n",
            "Resolving raw.githubusercontent.com (raw.githubusercontent.com)... 185.199.109.133, 185.199.110.133, 185.199.108.133, ...\n",
            "Connecting to raw.githubusercontent.com (raw.githubusercontent.com)|185.199.109.133|:443... connected.\n",
            "HTTP request sent, awaiting response... 200 OK\n",
            "Length: 1423529 (1.4M) [text/plain]\n",
            "Saving to: ‘housing.csv’\n",
            "\n",
            "\rhousing.csv           0%[                    ]       0  --.-KB/s               \rhousing.csv         100%[===================>]   1.36M  --.-KB/s    in 0.07s   \n",
            "\n",
            "2023-09-18 19:03:00 (20.3 MB/s) - ‘housing.csv’ saved [1423529/1423529]\n",
            "\n"
          ]
        },
        {
          "output_type": "execute_result",
          "data": {
            "text/plain": []
          },
          "metadata": {},
          "execution_count": 6
        }
      ]
    },
    {
      "cell_type": "code",
      "source": [
        "df = pd.read_csv('/content/housing.csv')\n",
        "df.info()"
      ],
      "metadata": {
        "colab": {
          "base_uri": "https://localhost:8080/"
        },
        "id": "D7SZd5fMTjAc",
        "outputId": "1acd3df6-56b5-486d-d40e-8c3af5ecb0ef"
      },
      "execution_count": 7,
      "outputs": [
        {
          "output_type": "stream",
          "name": "stdout",
          "text": [
            "<class 'pandas.core.frame.DataFrame'>\n",
            "RangeIndex: 20640 entries, 0 to 20639\n",
            "Data columns (total 10 columns):\n",
            " #   Column              Non-Null Count  Dtype  \n",
            "---  ------              --------------  -----  \n",
            " 0   longitude           20640 non-null  float64\n",
            " 1   latitude            20640 non-null  float64\n",
            " 2   housing_median_age  20640 non-null  float64\n",
            " 3   total_rooms         20640 non-null  float64\n",
            " 4   total_bedrooms      20433 non-null  float64\n",
            " 5   population          20640 non-null  float64\n",
            " 6   households          20640 non-null  float64\n",
            " 7   median_income       20640 non-null  float64\n",
            " 8   median_house_value  20640 non-null  float64\n",
            " 9   ocean_proximity     20640 non-null  object \n",
            "dtypes: float64(9), object(1)\n",
            "memory usage: 1.6+ MB\n"
          ]
        }
      ]
    },
    {
      "cell_type": "markdown",
      "source": [
        "**Question 2:**  Number of columns in the dataset*"
      ],
      "metadata": {
        "id": "5WNKM6fGUKbJ"
      }
    },
    {
      "cell_type": "code",
      "source": [
        "df.shape[-1]"
      ],
      "metadata": {
        "colab": {
          "base_uri": "https://localhost:8080/"
        },
        "id": "YaWGEneJT6J1",
        "outputId": "533d5b96-8148-43f2-9ad2-45c62521ef77"
      },
      "execution_count": 8,
      "outputs": [
        {
          "output_type": "execute_result",
          "data": {
            "text/plain": [
              "10"
            ]
          },
          "metadata": {},
          "execution_count": 8
        }
      ]
    },
    {
      "cell_type": "markdown",
      "source": [
        "**Question 3**: Select columns with missing data\n"
      ],
      "metadata": {
        "id": "g_oPa3wCWTo_"
      }
    },
    {
      "cell_type": "code",
      "source": [
        "df.columns[df.isna().any()]"
      ],
      "metadata": {
        "colab": {
          "base_uri": "https://localhost:8080/"
        },
        "id": "vfzO_naCWCfp",
        "outputId": "1f5e3871-4dd5-4d5c-f8e5-ed1f24f73e67"
      },
      "execution_count": 9,
      "outputs": [
        {
          "output_type": "execute_result",
          "data": {
            "text/plain": [
              "Index(['total_bedrooms'], dtype='object')"
            ]
          },
          "metadata": {},
          "execution_count": 9
        }
      ]
    },
    {
      "cell_type": "markdown",
      "source": [
        "**Question 4:** Number of unique values in the 'ocean_proximity' column"
      ],
      "metadata": {
        "id": "CNX4Ee3qUkdV"
      }
    },
    {
      "cell_type": "code",
      "source": [
        "df.ocean_proximity.value_counts()"
      ],
      "metadata": {
        "colab": {
          "base_uri": "https://localhost:8080/"
        },
        "id": "X4pTT67FUTwI",
        "outputId": "e19a375f-ad42-4b3b-e6f6-ff5804f7ce1c"
      },
      "execution_count": 10,
      "outputs": [
        {
          "output_type": "execute_result",
          "data": {
            "text/plain": [
              "<1H OCEAN     9136\n",
              "INLAND        6551\n",
              "NEAR OCEAN    2658\n",
              "NEAR BAY      2290\n",
              "ISLAND           5\n",
              "Name: ocean_proximity, dtype: int64"
            ]
          },
          "metadata": {},
          "execution_count": 10
        }
      ]
    },
    {
      "cell_type": "markdown",
      "source": [
        "**Question 5:** Average value of the 'median_house_value' for the houses near the bay"
      ],
      "metadata": {
        "id": "Jn8k2guGhp__"
      }
    },
    {
      "cell_type": "code",
      "source": [
        "df[df.ocean_proximity == 'NEAR BAY'].median_house_value.mean()"
      ],
      "metadata": {
        "colab": {
          "base_uri": "https://localhost:8080/"
        },
        "id": "nW00LRypUesw",
        "outputId": "341b0d34-d4d4-4fa2-e1c8-15e2cd16c595"
      },
      "execution_count": 11,
      "outputs": [
        {
          "output_type": "execute_result",
          "data": {
            "text/plain": [
              "259212.31179039303"
            ]
          },
          "metadata": {},
          "execution_count": 11
        }
      ]
    },
    {
      "cell_type": "code",
      "source": [
        "df.total_bedrooms.value_counts()"
      ],
      "metadata": {
        "id": "wKGRjQs2WhIp",
        "colab": {
          "base_uri": "https://localhost:8080/"
        },
        "outputId": "264e04e0-4daa-4379-8ca5-a59bad164ee2"
      },
      "execution_count": 12,
      "outputs": [
        {
          "output_type": "execute_result",
          "data": {
            "text/plain": [
              "280.0     55\n",
              "331.0     51\n",
              "345.0     50\n",
              "343.0     49\n",
              "393.0     49\n",
              "          ..\n",
              "2961.0     1\n",
              "1915.0     1\n",
              "1215.0     1\n",
              "3298.0     1\n",
              "1052.0     1\n",
              "Name: total_bedrooms, Length: 1923, dtype: int64"
            ]
          },
          "metadata": {},
          "execution_count": 12
        }
      ]
    },
    {
      "cell_type": "code",
      "source": [
        "df.total_bedrooms.describe()"
      ],
      "metadata": {
        "colab": {
          "base_uri": "https://localhost:8080/"
        },
        "id": "JDsP0P79h5qT",
        "outputId": "4a29d1e9-10e8-44a4-b909-51f61bdca569"
      },
      "execution_count": 14,
      "outputs": [
        {
          "output_type": "execute_result",
          "data": {
            "text/plain": [
              "count    20433.000000\n",
              "mean       537.870553\n",
              "std        421.385070\n",
              "min          1.000000\n",
              "25%        296.000000\n",
              "50%        435.000000\n",
              "75%        647.000000\n",
              "max       6445.000000\n",
              "Name: total_bedrooms, dtype: float64"
            ]
          },
          "metadata": {},
          "execution_count": 14
        }
      ]
    },
    {
      "cell_type": "code",
      "source": [
        "?df.fillna"
      ],
      "metadata": {
        "id": "2rUa41AXh-Gn"
      },
      "execution_count": 17,
      "outputs": []
    },
    {
      "cell_type": "code",
      "source": [
        "df2 = df.copy()"
      ],
      "metadata": {
        "id": "jjaOG9E_08lk"
      },
      "execution_count": 18,
      "outputs": []
    },
    {
      "cell_type": "code",
      "source": [
        "mean_bedroom = df2.total_bedrooms.mean()"
      ],
      "metadata": {
        "id": "5W7Em_eD17JL"
      },
      "execution_count": 19,
      "outputs": []
    },
    {
      "cell_type": "code",
      "source": [
        "mean_bedroom"
      ],
      "metadata": {
        "colab": {
          "base_uri": "https://localhost:8080/"
        },
        "id": "D9ZAKbxA2Gwr",
        "outputId": "b8267cb0-087e-45c4-8975-eb0a74dea90c"
      },
      "execution_count": 20,
      "outputs": [
        {
          "output_type": "execute_result",
          "data": {
            "text/plain": [
              "537.8705525375618"
            ]
          },
          "metadata": {},
          "execution_count": 20
        }
      ]
    },
    {
      "cell_type": "code",
      "source": [
        "df2.total_bedrooms.fillna(mean_bedroom)\n",
        "df2.total_bedrooms.describe()"
      ],
      "metadata": {
        "colab": {
          "base_uri": "https://localhost:8080/"
        },
        "id": "GDpPZD3l2IgM",
        "outputId": "dcec2ef0-9d91-4e3a-ca83-eec55a3e2222"
      },
      "execution_count": 22,
      "outputs": [
        {
          "output_type": "execute_result",
          "data": {
            "text/plain": [
              "count    20433.000000\n",
              "mean       537.870553\n",
              "std        421.385070\n",
              "min          1.000000\n",
              "25%        296.000000\n",
              "50%        435.000000\n",
              "75%        647.000000\n",
              "max       6445.000000\n",
              "Name: total_bedrooms, dtype: float64"
            ]
          },
          "metadata": {},
          "execution_count": 22
        }
      ]
    },
    {
      "cell_type": "markdown",
      "source": [
        "Question 6: Has the mean value changed after filling missing values?\n"
      ],
      "metadata": {
        "id": "0xuMTaER2kyz"
      }
    },
    {
      "cell_type": "code",
      "source": [
        "df2.total_bedrooms.mean() - mean_bedroom"
      ],
      "metadata": {
        "colab": {
          "base_uri": "https://localhost:8080/"
        },
        "id": "W8Kus93s2Uex",
        "outputId": "0cbf70b9-6ce0-43e4-e50e-ea65fe59b805"
      },
      "execution_count": 24,
      "outputs": [
        {
          "output_type": "execute_result",
          "data": {
            "text/plain": [
              "0.0"
            ]
          },
          "metadata": {},
          "execution_count": 24
        }
      ]
    },
    {
      "cell_type": "code",
      "source": [
        "df3 = df[df.ocean_proximity == 'ISLAND']\n",
        "df3.head"
      ],
      "metadata": {
        "colab": {
          "base_uri": "https://localhost:8080/"
        },
        "id": "47NTcWfD2gEE",
        "outputId": "4708cb8a-f4c7-4963-c103-8d3917a094b5"
      },
      "execution_count": 25,
      "outputs": [
        {
          "output_type": "execute_result",
          "data": {
            "text/plain": [
              "<bound method NDFrame.head of       longitude  latitude  housing_median_age  total_rooms  total_bedrooms  \\\n",
              "8314    -118.32     33.35                27.0       1675.0           521.0   \n",
              "8315    -118.33     33.34                52.0       2359.0           591.0   \n",
              "8316    -118.32     33.33                52.0       2127.0           512.0   \n",
              "8317    -118.32     33.34                52.0        996.0           264.0   \n",
              "8318    -118.48     33.43                29.0        716.0           214.0   \n",
              "\n",
              "      population  households  median_income  median_house_value  \\\n",
              "8314       744.0       331.0         2.1579            450000.0   \n",
              "8315      1100.0       431.0         2.8333            414700.0   \n",
              "8316       733.0       288.0         3.3906            300000.0   \n",
              "8317       341.0       160.0         2.7361            450000.0   \n",
              "8318       422.0       173.0         2.6042            287500.0   \n",
              "\n",
              "     ocean_proximity  \n",
              "8314          ISLAND  \n",
              "8315          ISLAND  \n",
              "8316          ISLAND  \n",
              "8317          ISLAND  \n",
              "8318          ISLAND  >"
            ]
          },
          "metadata": {},
          "execution_count": 25
        }
      ]
    },
    {
      "cell_type": "code",
      "source": [
        "df4 = df3[['housing_median_age', 'total_rooms', 'total_bedrooms']]\n",
        "df4.info()"
      ],
      "metadata": {
        "colab": {
          "base_uri": "https://localhost:8080/"
        },
        "id": "Jk7nZ_GJ4mtD",
        "outputId": "4bdc76d4-360b-4209-ef1f-8c74d491bfe5"
      },
      "execution_count": 28,
      "outputs": [
        {
          "output_type": "stream",
          "name": "stdout",
          "text": [
            "<class 'pandas.core.frame.DataFrame'>\n",
            "Int64Index: 5 entries, 8314 to 8318\n",
            "Data columns (total 3 columns):\n",
            " #   Column              Non-Null Count  Dtype  \n",
            "---  ------              --------------  -----  \n",
            " 0   housing_median_age  5 non-null      float64\n",
            " 1   total_rooms         5 non-null      float64\n",
            " 2   total_bedrooms      5 non-null      float64\n",
            "dtypes: float64(3)\n",
            "memory usage: 160.0 bytes\n"
          ]
        }
      ]
    },
    {
      "cell_type": "code",
      "source": [
        "X = df4.to_numpy()\n",
        "type(X)"
      ],
      "metadata": {
        "colab": {
          "base_uri": "https://localhost:8080/"
        },
        "id": "aaSIak4y4_dm",
        "outputId": "222d6325-c6f2-4578-94d7-63f460c4aa5f"
      },
      "execution_count": 30,
      "outputs": [
        {
          "output_type": "execute_result",
          "data": {
            "text/plain": [
              "numpy.ndarray"
            ]
          },
          "metadata": {},
          "execution_count": 30
        }
      ]
    },
    {
      "cell_type": "code",
      "source": [
        "M = X.T @ X\n",
        "M"
      ],
      "metadata": {
        "colab": {
          "base_uri": "https://localhost:8080/"
        },
        "id": "RIOBZ1E_5Za9",
        "outputId": "a2a62b33-ed92-4402-a800-0ca2747ef08a"
      },
      "execution_count": 31,
      "outputs": [
        {
          "output_type": "execute_result",
          "data": {
            "text/plain": [
              "array([[9.6820000e+03, 3.5105300e+05, 9.1357000e+04],\n",
              "       [3.5105300e+05, 1.4399307e+07, 3.7720360e+06],\n",
              "       [9.1357000e+04, 3.7720360e+06, 9.9835800e+05]])"
            ]
          },
          "metadata": {},
          "execution_count": 31
        }
      ]
    },
    {
      "cell_type": "code",
      "source": [
        "M_inv = np.linalg.inv(M)\n",
        "M_inv"
      ],
      "metadata": {
        "colab": {
          "base_uri": "https://localhost:8080/"
        },
        "id": "R_ZV6nXR5yk2",
        "outputId": "8faea98c-3245-490d-a1b6-ffef8fc38162"
      },
      "execution_count": 33,
      "outputs": [
        {
          "output_type": "execute_result",
          "data": {
            "text/plain": [
              "array([[ 9.19403586e-04, -3.66412216e-05,  5.43072261e-05],\n",
              "       [-3.66412216e-05,  8.23303633e-06, -2.77534485e-05],\n",
              "       [ 5.43072261e-05, -2.77534485e-05,  1.00891325e-04]])"
            ]
          },
          "metadata": {},
          "execution_count": 33
        }
      ]
    },
    {
      "cell_type": "code",
      "source": [
        "y = np.array([950, 1300, 800, 1000, 1300])\n",
        "type(y)"
      ],
      "metadata": {
        "colab": {
          "base_uri": "https://localhost:8080/"
        },
        "id": "aJOvcgT654kV",
        "outputId": "1786eb08-2f1d-4510-8994-c297be61e9fe"
      },
      "execution_count": 36,
      "outputs": [
        {
          "output_type": "execute_result",
          "data": {
            "text/plain": [
              "numpy.ndarray"
            ]
          },
          "metadata": {},
          "execution_count": 36
        }
      ]
    },
    {
      "cell_type": "code",
      "source": [
        "w = M_inv @ X.T @ y\n",
        "w"
      ],
      "metadata": {
        "colab": {
          "base_uri": "https://localhost:8080/"
        },
        "id": "cUsqdm9p6HQw",
        "outputId": "fdf1f9cc-4276-42fe-9aa9-ec860624b601"
      },
      "execution_count": 37,
      "outputs": [
        {
          "output_type": "execute_result",
          "data": {
            "text/plain": [
              "array([23.12330961, -1.48124183,  5.69922946])"
            ]
          },
          "metadata": {},
          "execution_count": 37
        }
      ]
    },
    {
      "cell_type": "markdown",
      "source": [
        "**Questions 7**: Value of the last element of w"
      ],
      "metadata": {
        "id": "RBKvyppJ6YeH"
      }
    },
    {
      "cell_type": "code",
      "source": [
        "w[-1]"
      ],
      "metadata": {
        "colab": {
          "base_uri": "https://localhost:8080/"
        },
        "id": "MYs5YUAW6JKR",
        "outputId": "e3787012-8c4a-41ac-88ce-912e845bd9ba"
      },
      "execution_count": 38,
      "outputs": [
        {
          "output_type": "execute_result",
          "data": {
            "text/plain": [
              "5.699229455065586"
            ]
          },
          "metadata": {},
          "execution_count": 38
        }
      ]
    },
    {
      "cell_type": "code",
      "source": [],
      "metadata": {
        "id": "fm6ABctn6cz7"
      },
      "execution_count": null,
      "outputs": []
    }
  ]
}